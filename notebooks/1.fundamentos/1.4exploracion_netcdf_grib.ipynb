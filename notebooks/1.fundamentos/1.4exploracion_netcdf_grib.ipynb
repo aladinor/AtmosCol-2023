{
 "cells": [
  {
   "cell_type": "markdown",
   "id": "cc968afc",
   "metadata": {},
   "source": [
    "# 📘 Exploración de formatos climáticos: NetCDF y GRIB\n",
    "**Curso AtmosCol-2023 – Cuadernillo Didáctico**\n",
    "\n",
    "Este cuaderno está diseñado para introducir los dos formatos de archivo más comunes en el análisis de datos meteorológicos y climáticos: **NetCDF** y **GRIB**. Está pensado para ser completado en aproximadamente 20 minutos y utiliza exclusivamente Python."
   ]
  },
  {
   "cell_type": "markdown",
   "id": "bbb1ffdf",
   "metadata": {},
   "source": [
    "## ✨ Introducción\n",
    "Los modelos meteorológicos y los satélites generan enormes volúmenes de datos. Estos se almacenan en formatos especializados que permiten eficiencia y flexibilidad. En este cuaderno aprenderás a reconocer, leer y explorar los formatos **NetCDF** y **GRIB** usando Python. Estos conocimientos son esenciales para cualquier persona que trabaje en ciencia del clima, meteorología operativa o análisis satelital."
   ]
  },
  {
   "cell_type": "markdown",
   "id": "f1b0ad01",
   "metadata": {},
   "source": [
    "## ⚙️ Prerrequisitos\n",
    "Este cuaderno requiere conocimientos básicos de Python y las siguientes librerías:\n",
    "\n",
    "```python\n",
    "import xarray as xr\n",
    "import matplotlib.pyplot as plt\n",
    "# Para archivos GRIB\n",
    "# pip install cfgrib\n",
    "```"
   ]
  },
  {
   "cell_type": "markdown",
   "id": "27eabe4f",
   "metadata": {},
   "source": [
    "## 📦 Formato NetCDF\n",
    "**NetCDF (Network Common Data Form)** es un formato de archivo binario auto-descriptivo ampliamente utilizado en las ciencias atmosféricas.\n",
    "\n",
    "### 📊 Estructura conceptual\n",
    "![NetCDF](sandbox:/mnt/data/A_digital_educational_diagram_provides_a_conceptua.png)"
   ]
  },
  {
   "cell_type": "markdown",
   "id": "5a45291b",
   "metadata": {},
   "source": [
    "### 🔍 Características principales\n",
    "- Almacena datos multidimensionales (tiempo, latitud, longitud, nivel)\n",
    "- Permite metadatos descriptivos\n",
    "- Soporta estructuras jerárquicas (NetCDF-4)"
   ]
  },
  {
   "cell_type": "markdown",
   "id": "a191c26c",
   "metadata": {},
   "source": [
    "### ✅ Ventajas\n",
    "- Fácil de explorar con `xarray`\n",
    "- Compatible con muchas herramientas científicas\n",
    "- Ideal para almacenamiento a largo plazo"
   ]
  },
  {
   "cell_type": "markdown",
   "id": "de2fa285",
   "metadata": {},
   "source": [
    "### ⚠️ Desventajas\n",
    "- Tamaño de archivo mayor comparado con GRIB\n",
    "- Puede ser más lento para acceso puntual"
   ]
  },
  {
   "cell_type": "markdown",
   "id": "5666e3b2",
   "metadata": {},
   "source": [
    "### 🔄 Versiones\n",
    "- **Classic**: estructura simple y universal\n",
    "- **NetCDF-4**: permite compresión y grupos jerárquicos"
   ]
  },
  {
   "cell_type": "markdown",
   "id": "c99d5d4a",
   "metadata": {},
   "source": [
    "### 🛠️ Tips ETL en Python\n",
    "- Usa `ds.sel()` y `ds.isel()` para filtrar por dimensión\n",
    "- Verifica unidades (`ds.attrs`, `ds.variable.attrs`)\n",
    "- Asegura el formato de fechas (`time` en UTC)"
   ]
  },
  {
   "cell_type": "code",
   "execution_count": null,
   "id": "c39de887",
   "metadata": {},
   "outputs": [],
   "source": [
    "# Lectura básica NetCDF\n",
    "ds = xr.open_dataset('datos/ejemplo.nc')\n",
    "ds"
   ]
  },
  {
   "cell_type": "code",
   "execution_count": null,
   "id": "a50e5eab",
   "metadata": {},
   "outputs": [],
   "source": [
    "# Visualización de una variable\n",
    "ds['nombre_variable'].isel(time=0).plot()"
   ]
  },
  {
   "cell_type": "markdown",
   "id": "bd664646",
   "metadata": {},
   "source": [
    "## 📦 Formato GRIB\n",
    "**GRIB (GRIdded Binary)** es un formato binario eficiente utilizado principalmente para pronósticos numéricos del tiempo.\n",
    "\n",
    "### 📊 Estructura conceptual\n",
    "![GRIB](sandbox:/mnt/data/A_two-dimensional_digital_diagram_depicts_the_conc.png)"
   ]
  },
  {
   "cell_type": "markdown",
   "id": "68bd067a",
   "metadata": {},
   "source": [
    "### 🔍 Características principales\n",
    "- Datos almacenados como registros binarios con encabezados\n",
    "- Alta eficiencia en tamaño y lectura\n",
    "- Muy usado por servicios meteorológicos operativos"
   ]
  },
  {
   "cell_type": "markdown",
   "id": "451a6056",
   "metadata": {},
   "source": [
    "### ✅ Ventajas\n",
    "- Tamaño de archivo reducido\n",
    "- Acceso puntual eficiente\n",
    "- Ideal para distribución de pronósticos"
   ]
  },
  {
   "cell_type": "markdown",
   "id": "e220679f",
   "metadata": {},
   "source": [
    "### ⚠️ Desventajas\n",
    "- Menos intuitivo que NetCDF\n",
    "- Requiere herramientas específicas como `cfgrib`"
   ]
  },
  {
   "cell_type": "markdown",
   "id": "12cb0595",
   "metadata": {},
   "source": [
    "### 🔄 Versiones\n",
    "- **GRIB1**: formato más simple y aún en uso\n",
    "- **GRIB2**: admite más metadatos y compresión"
   ]
  },
  {
   "cell_type": "markdown",
   "id": "1d1ad588",
   "metadata": {},
   "source": [
    "### 🛠️ Tips ETL en Python\n",
    "- Usa `engine='cfgrib'` con `xarray`\n",
    "- Explora claves con `filter_by_keys` si hay múltiples campos\n",
    "- Presta atención al paso temporal (`step`), tipo de nivel y superficie"
   ]
  },
  {
   "cell_type": "code",
   "execution_count": null,
   "id": "182d6873",
   "metadata": {},
   "outputs": [],
   "source": [
    "# Lectura básica GRIB\n",
    "ds_grib = xr.open_dataset('datos/ejemplo.grib', engine='cfgrib')\n",
    "ds_grib"
   ]
  },
  {
   "cell_type": "code",
   "execution_count": null,
   "id": "1e9b166b",
   "metadata": {},
   "outputs": [],
   "source": [
    "# Visualización de una variable\n",
    "ds_grib['nombre_variable'].isel(time=0).plot()"
   ]
  },
  {
   "cell_type": "markdown",
   "id": "a7ecf997",
   "metadata": {},
   "source": [
    "## 📊 Comparación general\n",
    "| Aspecto        | NetCDF                    | GRIB                      |\n",
    "|----------------|-----------------------------|----------------------------|\n",
    "| Compresión     | Opcional (NetCDF-4)         | Alta (GRIB2)               |\n",
    "| Usabilidad     | Más intuitivo               | Más eficiente              |\n",
    "| Finalidad      | Archivos científicos        | Distribución operativa     |\n",
    "| Estructura     | Auto-descriptiva            | Encabezados + binario      |"
   ]
  },
  {
   "cell_type": "markdown",
   "id": "d3180fa4",
   "metadata": {},
   "source": [
    "## ✅ Conclusiones\n",
    "Ambos formatos son esenciales en meteorología. NetCDF es más flexible para análisis y documentación, mientras que GRIB es óptimo para pronósticos y distribución de modelos. Manejar ambos con Python permite construir flujos ETL robustos para proyectos climáticos, energéticos y operativos."
   ]
  },
  {
   "cell_type": "markdown",
   "id": "7b6fe8a4",
   "metadata": {},
   "source": [
    "## 📚 Recursos y Bibliografía\n",
    "- Earth Lab. (s.f.). *Introduction to Climate Data in NetCDF Format*. University of Colorado Boulder. https://www.earthdatascience.org/courses/use-data-open-source-python/hierarchical-data-formats-hdf/intro-to-climate-data/\n",
    "- ECMWF. (2014). *GRIB – NetCDF: Setting the Scene*. https://www.ecmwf.int/sites/default/files/elibrary/2014/13706-grib-netcdf-setting-scene.pdf\n",
    "- UCAR Unidata. (s.f.). *NetCDF Documentation*. https://www.unidata.ucar.edu/software/netcdf/docs/\n",
    "- ECMWF. (s.f.). *GRIB API & ecCodes*. https://confluence.ecmwf.int/display/ECC"
   ]
  }
 ],
 "metadata": {},
 "nbformat": 4,
 "nbformat_minor": 5
}
